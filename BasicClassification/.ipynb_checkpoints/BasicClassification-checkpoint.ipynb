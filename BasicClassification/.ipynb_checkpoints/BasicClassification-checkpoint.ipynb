{
 "cells": [
  {
   "cell_type": "markdown",
   "metadata": {},
   "source": [
    "# * Prerequisites"
   ]
  },
  {
   "cell_type": "markdown",
   "metadata": {},
   "source": [
    "You should familiarize yourself with the `numpy.ndarray` class of python's `numpy` library.\n",
    "\n",
    "You should be able to answer the following questions before starting this assignment. Let's assume `a` is a numpy array.\n",
    "* What is an array's shape (e.g., what is the meaning of `a.shape`)?  \n",
    "* What is numpy's reshaping operation? How much computational over-head would it induce?  \n",
    "* What is numpy's transpose operation, and how it is different from reshaping? Does it cause computation overhead?\n",
    "* What is the meaning of the commands `a.reshape(-1, 1)` and `a.reshape(-1)`?\n",
    "* Would happens to the variable `a` after we call `b = a.reshape(-1)`? Does any of `a`'s attributes change?\n",
    "* How do assignments in python and numpy work in general?\n",
    "    * Does the `b=a` statement use copying by value? Or is it copying by reference?\n",
    "    * Is the answer to the previous question change depending on whether `a` is a numpy array or a scalar value?\n",
    "    \n",
    "You can answer all of these questions by\n",
    "\n",
    "    1. Reading numpy's documentation from https://numpy.org/doc/stable/.\n",
    "    2. Making trials using dummy variables."
   ]
  },
  {
   "cell_type": "markdown",
   "metadata": {},
   "source": [
    "# *Assignment Summary"
   ]
  },
  {
   "cell_type": "markdown",
   "metadata": {},
   "source": [
    "The UC Irvine machine learning data repository hosts a famous collection of data on whether a patient has diabetes (the Pima Indians dataset), originally owned by the National Institute of Diabetes and Digestive and Kidney Diseases and donated by Vincent Sigillito. You can find this data at  https://www.kaggle.com/uciml/pima-indians-diabetes-database/data. This data has a set of attributes of patients, and a categorical variable telling whether the patient is diabetic or not. For several attributes in this data set, a value of 0 may indicate a missing value of the variable.\n",
    "\n",
    "* **Part 1-A)** Build a simple naive Bayes classifier to classify this data set. We will use 20% of the data for evaluation and the other 80% for training. \n",
    "\n",
    "  There are a total of 768 data-points. You should use a normal distribution to model each of the class-conditional distributions. You should write this classifier yourself (it's quite straight-forward).\n",
    "\n",
    "  Report the accuracy of the classifier on the 20% evaluation data, where accuracy is the number of correct predictions as a fraction of total predictions.\n",
    "\n",
    "* **Part 1-B)** Now adjust your code so that, for attribute 3 (Diastolic blood pressure), attribute 4 (Triceps skin fold thickness), attribute 6 (Body mass index), and attribute 8 (Age), it regards a value of 0 as a missing value when estimating the class-conditional distributions, and the posterior.\n",
    "\n",
    "  Report the accuracy of the classifier on the 20% that was held out for evaluation.\n",
    "\n",
    "* **Part 1-C)** Now install SVMLight, which you can find at http://svmlight.joachims.org, to train and evaluate an SVM to classify this data.\n",
    "\n",
    "  You don't need to understand much about SVM's to do this as we'll do that in following exercises. You should NOT substitute NA values for zeros for attributes 3, 4, 6, and 8.\n",
    "  \n",
    "  Report the accuracy of the classifier on the held out 20%"
   ]
  },
  {
   "cell_type": "markdown",
   "metadata": {},
   "source": [
    "# 0. Data"
   ]
  },
  {
   "cell_type": "markdown",
   "metadata": {},
   "source": [
    "## 0.1 Description"
   ]
  },
  {
   "cell_type": "markdown",
   "metadata": {},
   "source": [
    "The UC Irvine's Machine Learning Data Repository Department hosts a Kaggle Competition with famous collection of data on whether a patient has diabetes (the Pima Indians dataset), originally owned by the National Institute of Diabetes and Digestive and Kidney Diseases and donated by Vincent Sigillito. \n",
    "\n",
    "You can find this data at https://www.kaggle.com/uciml/pima-indians-diabetes-database/data. The Kaggle website offers valuable visualizations of the original data dimensions in its dashboard. It is quite insightful to take the time and make sense of the data using their dashboard before applying any method to the data."
   ]
  },
  {
   "cell_type": "markdown",
   "metadata": {},
   "source": [
    "## 0.2 Information Summary"
   ]
  },
  {
   "cell_type": "markdown",
   "metadata": {},
   "source": [
    "* **Input/Output**: This data has a set of attributes of patients, and a categorical variable telling whether the patient is diabetic or not. \n",
    "\n",
    "* **Missing Data**: For several attributes in this data set, a value of 0 may indicate a missing value of the variable.\n",
    "\n",
    "* **Final Goal**: We want to build a classifier that can predict whether a patient has diabetes or not. To do this, we will train multiple kinds of models, and will be handing the missing data with different approaches for each method (i.e., some methods will ignore their existence, while others may do something about the missing data)."
   ]
  },
  {
   "cell_type": "markdown",
   "metadata": {},
   "source": [
    "## 0.3 Loading"
   ]
  },
  {
   "cell_type": "code",
   "execution_count": null,
   "metadata": {},
   "outputs": [],
   "source": [
    "%matplotlib inline\n",
    "import pandas as pd\n",
    "import numpy as np\n",
    "import seaborn as sns\n",
    "import matplotlib.pyplot as plt\n",
    "\n",
    "from utils import test_case_checker"
   ]
  },
  {
   "cell_type": "code",
   "execution_count": null,
   "metadata": {},
   "outputs": [],
   "source": [
    "df = pd.read_csv('diabetes.csv')\n",
    "df.head()"
   ]
  },
  {
   "cell_type": "markdown",
   "metadata": {},
   "source": [
    "## 0.1 Splitting The Data"
   ]
  },
  {
   "cell_type": "markdown",
   "metadata": {},
   "source": [
    "First, we will shuffle the data completely, and forget about the order in the original csv file. \n",
    "\n",
    "* The training and evaluation dataframes will be named ```train_df``` and ```eval_df```, respectively.\n",
    "\n",
    "* We will also create the 2-d numpy array `train_features` whose number of rows is the number of training samples, and the number of columns is 8 (i.e., the number of features). We will define `eval_features` in a similar fashion\n",
    "\n",
    "* We would also create the 1-d numpy arrays `train_labels` and `eval_labels` which contain the training and evaluation labels, respectively."
   ]
  },
  {
   "cell_type": "code",
   "execution_count": null,
   "metadata": {},
   "outputs": [],
   "source": [
    "# Let's generate the split ourselves.\n",
    "np_random = np.random.RandomState(seed=12345)\n",
    "rand_unifs = np_random.uniform(0,1,size=df.shape[0])\n",
    "division_thresh = np.percentile(rand_unifs, 80)\n",
    "train_indicator = rand_unifs < division_thresh\n",
    "eval_indicator = rand_unifs >= division_thresh"
   ]
  },
  {
   "cell_type": "code",
   "execution_count": null,
   "metadata": {},
   "outputs": [],
   "source": [
    "train_df = df[train_indicator].reset_index(drop=True)\n",
    "train_features = train_df.loc[:, train_df.columns != 'Outcome'].values\n",
    "train_labels = train_df['Outcome'].values\n",
    "train_df.head()"
   ]
  },
  {
   "cell_type": "code",
   "execution_count": null,
   "metadata": {},
   "outputs": [],
   "source": [
    "eval_df = df[eval_indicator].reset_index(drop=True)\n",
    "eval_features = eval_df.loc[:, eval_df.columns != 'Outcome'].values\n",
    "eval_labels = eval_df['Outcome'].values\n",
    "eval_df.head()"
   ]
  },
  {
   "cell_type": "code",
   "execution_count": null,
   "metadata": {
    "scrolled": true
   },
   "outputs": [],
   "source": [
    "train_features.shape, train_labels.shape, eval_features.shape, eval_labels.shape"
   ]
  },
  {
   "cell_type": "markdown",
   "metadata": {},
   "source": [
    "## 0.2 Pre-processing The Data"
   ]
  },
  {
   "cell_type": "markdown",
   "metadata": {},
   "source": [
    "Some of the columns exhibit missing values. We will use a Naive Bayes Classifier later that will treat such missing values in a special way.  To be specific, for attribute 3 (Diastolic blood pressure), attribute 4 (Triceps skin fold thickness), attribute 6 (Body mass index), and attribute 8 (Age), we should regard a value of 0 as a missing value.\n",
    "\n",
    "Therefore, we will be creating the `train_featues_with_nans` and `eval_features_with_nans` numpy arrays to be just like their `train_features` and `eval_features` counter-parts, but with the zero-values in such columns replaced with nans."
   ]
  },
  {
   "cell_type": "code",
   "execution_count": null,
   "metadata": {},
   "outputs": [],
   "source": [
    "train_df_with_nans = train_df.copy(deep=True)\n",
    "eval_df_with_nans = eval_df.copy(deep=True)\n",
    "for col_with_nans in ['BloodPressure', 'SkinThickness', 'BMI', 'Age']:\n",
    "    train_df_with_nans[col_with_nans] = train_df_with_nans[col_with_nans].replace(0, np.nan)\n",
    "    eval_df_with_nans[col_with_nans] = eval_df_with_nans[col_with_nans].replace(0, np.nan)\n",
    "train_features_with_nans = train_df_with_nans.loc[:, train_df_with_nans.columns != 'Outcome'].values\n",
    "eval_features_with_nans = eval_df_with_nans.loc[:, eval_df_with_nans.columns != 'Outcome'].values"
   ]
  },
  {
   "cell_type": "code",
   "execution_count": null,
   "metadata": {
    "scrolled": true
   },
   "outputs": [],
   "source": [
    "print('Here are the training rows with at least one missing values.')\n",
    "print('')\n",
    "print('You can see that such incomplete data points constitute a substantial part of the data.')\n",
    "print('')\n",
    "nan_training_data = train_df_with_nans[train_df_with_nans.isna().any(axis=1)]\n",
    "nan_training_data"
   ]
  },
  {
   "cell_type": "markdown",
   "metadata": {},
   "source": [
    "# 1. Part 1 (Building a simple Naive Bayes Classifier)"
   ]
  },
  {
   "cell_type": "markdown",
   "metadata": {},
   "source": [
    "Consider a single sample $(\\mathbf{x}, y)$, where the feature vector is denoted with $\\mathbf{x}$, and the label is denoted with $y$. We will also denote the $j^{th}$ feature of $\\mathbf{x}$ with $x^{(j)}$.\n",
    "\n",
    "According to the textbook, the Naive Bayes Classifier uses the following decision rule:\n",
    "\n",
    "\"Choose $y$ such that $$\\bigg[\\log p(y) + \\sum_{j} \\log p(x^{(j)}|y) \\bigg]$$ is the largest\"\n",
    "\n",
    "However, we first need to define the probabilistic models of the prior $p(y)$ and the class-conditional feature distributions $p(x^{(j)}|y)$ using the training data.\n",
    "\n",
    "* **Modelling the prior $p(y)$**: We fit a Bernoulli distribution to the `Outcome` variable of `train_df`.\n",
    "* **Modelling the class-conditional feature distributions $p(x^{(j)}|y)$**: We fit Gaussian distributions, and infer the Gaussian mean and variance parameters from `train_df`."
   ]
  },
  {
   "cell_type": "markdown",
   "metadata": {},
   "source": [
    "# <span style=\"color:blue\">Task 1</span>"
   ]
  },
  {
   "cell_type": "markdown",
   "metadata": {},
   "source": [
    "Write a function `log_prior` that takes a numpy array `train_labels` as input, and outputs the following vector as a column numpy array (i.e., with shape $(2,1)$).\n",
    "\n",
    "$$\\log p_y =\\begin{bmatrix}\\log p(y=0)\\\\\\log p(y=1)\\end{bmatrix}$$\n",
    "\n",
    "Try and avoid the utilization of loops as much as possible. No loops are necessary.\n",
    "\n",
    "**Hint**: Make sure all the array shapes are what you need and expect. You can reshape any numpy array without any tangible computational over-head."
   ]
  },
  {
   "cell_type": "code",
   "execution_count": null,
   "metadata": {
    "nbgrader": {
     "grade": false,
     "grade_id": "cell-540952d95c213032",
     "locked": false,
     "schema_version": 3,
     "solution": true,
     "task": false
    }
   },
   "outputs": [],
   "source": [
    "def log_prior(train_labels):\n",
    "    \n",
    "    ### BEGIN SOLUTION\n",
    "    \n",
    "    ### END SOLUTION\n",
    "    \n",
    "    assert log_py.shape == (2,1)\n",
    "    \n",
    "    return log_py"
   ]
  },
  {
   "cell_type": "code",
   "execution_count": null,
   "metadata": {},
   "outputs": [],
   "source": [
    "log_py = log_prior(train_labels)\n",
    "log_py"
   ]
  },
  {
   "cell_type": "markdown",
   "metadata": {},
   "source": [
    "# <span style=\"color:blue\">Task 2</span>"
   ]
  },
  {
   "cell_type": "markdown",
   "metadata": {},
   "source": [
    "Write a function `cc_mean_ignore_missing` that takes the numpy arrays `train_features` and `train_labels` as input, and outputs the following matrix with the shape $(8,2)$, where 8 is the number of features.\n",
    "\n",
    "$$\\mu_y = \\begin{bmatrix} \\mathbb{E}[x^{(0)}|y=0] & \\mathbb{E}[x^{(0)}|y=1]\\\\\n",
    "\\mathbb{E}[x^{(1)}|y=0] & \\mathbb{E}[x^{(1)}|y=1] \\\\\n",
    "\\cdots & \\cdots\\\\\n",
    "\\mathbb{E}[x^{(7)}|y=0] & \\mathbb{E}[x^{(7)}|y=1]\\end{bmatrix}$$\n",
    "\n",
    "Some points regarding this task:\n",
    "\n",
    "* The `train_features` numpy array has a shape of `(N,8)` where `N` is the number of training data points, and 8 is the number of the features. \n",
    "\n",
    "* The `train_labels` numpy array has a shape of `(N,)`. \n",
    "\n",
    "* **You can assume that `train_features` has no missing elements in this task**.\n",
    "\n",
    "* Try and avoid the utilization of loops as much as possible. No loops are necessary."
   ]
  },
  {
   "cell_type": "code",
   "execution_count": null,
   "metadata": {
    "nbgrader": {
     "grade": false,
     "grade_id": "cell-9482e9412e53e401",
     "locked": false,
     "schema_version": 3,
     "solution": true,
     "task": false
    }
   },
   "outputs": [],
   "source": [
    "def cc_mean_ignore_missing(train_features, train_labels):\n",
    "    N, d = train_features.shape\n",
    "    \n",
    "    ### BEGIN SOLUTION\n",
    "    ### END SOLUTION\n",
    "    means_success = np.mean(train_features[train_labels==1],axis=0)\n",
    "    means_failure = np.mean(train_features[train_labels==0],axis=0)\n",
    "    mu_y = np.column_stack((means_failure,means_success))\n",
    "\n",
    "    \n",
    "    assert mu_y.shape == (d, 2)\n",
    "    return mu_y"
   ]
  },
  {
   "cell_type": "code",
   "execution_count": null,
   "metadata": {},
   "outputs": [],
   "source": [
    "mu_y = cc_mean_ignore_missing(train_features, train_labels)\n",
    "mu_y"
   ]
  },
  {
   "cell_type": "markdown",
   "metadata": {},
   "source": [
    "# <span style=\"color:blue\">Task 3</span>"
   ]
  },
  {
   "cell_type": "markdown",
   "metadata": {},
   "source": [
    "Write a function `cc_std_ignore_missing` that takes the numpy arrays `train_features` and `train_labels` as input, and outputs the following matrix with the shape $(8,2)$, where 8 is the number of features.\n",
    "\n",
    "$$\\sigma_y = \\begin{bmatrix} \\text{std}[x^{(0)}|y=0] & \\text{std}[x^{(0)}|y=1]\\\\\n",
    "\\text{std}[x^{(1)}|y=0] & \\text{std}[x^{(1)}|y=1] \\\\\n",
    "\\cdots & \\cdots\\\\\n",
    "\\text{std}[x^{(7)}|y=0] & \\text{std}[x^{(7)}|y=1]\\end{bmatrix}$$\n",
    "\n",
    "Some points regarding this task:\n",
    "\n",
    "* The `train_features` numpy array has a shape of `(N,8)` where `N` is the number of training data points, and 8 is the number of the features. \n",
    "\n",
    "* The `train_labels` numpy array has a shape of `(N,)`. \n",
    "\n",
    "* **You can assume that `train_features` has no missing elements in this task**.\n",
    "\n",
    "* Try and avoid the utilization of loops as much as possible. No loops are necessary."
   ]
  },
  {
   "cell_type": "code",
   "execution_count": null,
   "metadata": {
    "nbgrader": {
     "grade": false,
     "grade_id": "cell-410ce572204e37df",
     "locked": false,
     "schema_version": 3,
     "solution": true,
     "task": false
    }
   },
   "outputs": [],
   "source": [
    "def cc_std_ignore_missing(train_features, train_labels):\n",
    "    N, d = train_features.shape\n",
    "    \n",
    "    ### BEGIN SOLUTION\n",
    "    ### END SOLUTION\n",
    "    \n",
    "    sigma_success = np.std(train_features[train_labels==1],axis=0)\n",
    "    sigma_failure = np.std(train_features[train_labels==0],axis=0)\n",
    "    sigma_y = np.column_stack((sigma_failure,sigma_success))\n",
    "\n",
    "    \n",
    "    assert sigma_y.shape == (d, 2)\n",
    "    \n",
    "    return sigma_y"
   ]
  },
  {
   "cell_type": "code",
   "execution_count": null,
   "metadata": {},
   "outputs": [],
   "source": [
    "sigma_y = cc_std_ignore_missing(train_features, train_labels)\n",
    "sigma_y"
   ]
  },
  {
   "cell_type": "markdown",
   "metadata": {},
   "source": [
    "# <span style=\"color:blue\">Task 4</span>"
   ]
  },
  {
   "cell_type": "markdown",
   "metadata": {},
   "source": [
    "Write a function `log_prob` that takes the numpy arrays `train_features`, $\\mu_y$, $\\sigma_y$, and  $\\log p_y$ as input, and outputs the following matrix with the shape $(N, 2)$\n",
    "\n",
    "$$\\log p_{x,y} = \\begin{bmatrix} \\bigg[\\log p(y=0) + \\sum_{j=0}^{7} \\log p(x_1^{(j)}|y=0) \\bigg] & \\bigg[\\log p(y=1) + \\sum_{j=0}^{7} \\log p(x_1^{(j)}|y=1) \\bigg] \\\\\n",
    "\\bigg[\\log p(y=0) + \\sum_{j=0}^{7} \\log p(x_2^{(j)}|y=0) \\bigg] & \\bigg[\\log p(y=1) + \\sum_{j=0}^{7} \\log p(x_2^{(j)}|y=1) \\bigg] \\\\\n",
    "\\cdots & \\cdots \\\\\n",
    "\\bigg[\\log p(y=0) + \\sum_{j=0}^{7} \\log p(x_N^{(j)}|y=0) \\bigg] & \\bigg[\\log p(y=1) + \\sum_{j=0}^{7} \\log p(x_N^{(j)}|y=1) \\bigg] \\\\\n",
    "\\end{bmatrix}$$\n",
    "\n",
    "where\n",
    "* $N$ is the number of training data points.\n",
    "* $x_i$ is the $i^{th}$ training data point.\n",
    "\n",
    "Try and avoid the utilization of loops as much as possible. No loops are necessary."
   ]
  },
  {
   "cell_type": "markdown",
   "metadata": {},
   "source": [
    "**Hint**: Remember that we are modelling $p(x_i^{(j)}|y)$ with a Gaussian whose parameters are defined inside $\\mu_y$ and $\\sigma_y$. Write the Gaussian PDF expression and take its natural log **on paper**, then implement it.\n",
    "\n",
    "**Important Note**: Do not use third-party and non-standard implementations for computing $\\log p(x_i^{(j)}|y)$. Using functions that find the Gaussian PDF, and then taking their log is **numerically unstable**; the Gaussian PDF values can easily become extremely small numbers that cannot be represented using floating point standards and thus would be stored as zero. Taking the log of a zero value will throw an error. On the other hand, it is unnecessary to compute and store $p(x_i^{(j)}|y)$ in order to find $\\log p(x_i^{(j)}|y)$; you can write $\\log p(x_i^{(j)}|y)$ as a direct function of $\\mu_y$, $\\sigma_y$ and the features. This latter approach is numerically stable, and can be applied when the PDF values are much smaller than could be stored using the common standards."
   ]
  },
  {
   "cell_type": "code",
   "execution_count": null,
   "metadata": {
    "nbgrader": {
     "grade": false,
     "grade_id": "cell-773a3cddb6c45cf8",
     "locked": false,
     "schema_version": 3,
     "solution": true,
     "task": false
    }
   },
   "outputs": [],
   "source": [
    "def log_prob(features, mu_y, sigma_y, log_py):\n",
    "    N, d = features.shape\n",
    "    \n",
    "    ### BEGIN SOLUTION\n",
    "    ### END SOLUTION\n",
    "    \n",
    "    log_sigma_inv = np.log((1/np.sqrt(2*np.pi))*(1./sigma_y))\n",
    "    x_mu_sigma_false = features - mu_y[:,0].reshape(1,-1)\n",
    "    x_mu_sigma_false = x_mu_sigma_false / sigma_y[:,0].reshape(1,-1)\n",
    "    x_mu_sigma_false = (-1./2.)*np.square(x_mu_sigma_false)\n",
    "    log_p_x_false = log_sigma_inv[:,0].reshape(1,-1) + x_mu_sigma_false\n",
    "    log_p_x_false = np.sum(log_p_x_false, axis = 1, keepdims = True) \n",
    "    log_p_x_false = log_py[0] +log_p_x_false\n",
    "\n",
    "    x_mu_sigma_true = features - mu_y[:,1].reshape(1,-1)\n",
    "    x_mu_sigma_true = x_mu_sigma_true / sigma_y[:,1].reshape(1,-1)\n",
    "    x_mu_sigma_true = (-1./2.)*np.square(x_mu_sigma_true)\n",
    "    log_p_x_true = log_sigma_inv[:,1].reshape(1,-1) + x_mu_sigma_true\n",
    "    log_p_x_true = np.sum(log_p_x_true, axis = 1, keepdims = True) \n",
    "    log_p_x_true = log_py[1] +log_p_x_true\n",
    "    \n",
    "    log_p_x_y = np.concatenate((log_p_x_false, log_p_x_true), axis = 1)\n",
    "\n",
    "    \n",
    "    \n",
    "    assert log_p_x_y.shape == (N,2)\n",
    "    return log_p_x_y"
   ]
  },
  {
   "cell_type": "code",
   "execution_count": null,
   "metadata": {},
   "outputs": [],
   "source": [
    "log_p_x_y = log_prob(train_features, mu_y, sigma_y, log_py)\n",
    "log_p_x_y"
   ]
  },
  {
   "cell_type": "markdown",
   "metadata": {},
   "source": [
    "## 1.1. Writing the Simple Naive Bayes Classifier"
   ]
  },
  {
   "cell_type": "code",
   "execution_count": null,
   "metadata": {},
   "outputs": [],
   "source": [
    "class NBClassifier():\n",
    "    def __init__(self, train_features, train_labels):\n",
    "        self.train_features = train_features\n",
    "        self.train_labels = train_labels\n",
    "        self.log_py = log_prior(train_labels)\n",
    "        self.mu_y = self.get_cc_means()\n",
    "        self.sigma_y = self.get_cc_std()\n",
    "        \n",
    "    def get_cc_means(self):\n",
    "        mu_y = cc_mean_ignore_missing(self.train_features, self.train_labels)\n",
    "        return mu_y\n",
    "    \n",
    "    def get_cc_std(self):\n",
    "        sigma_y = cc_std_ignore_missing(self.train_features, self.train_labels)\n",
    "        return sigma_y\n",
    "    \n",
    "    def predict(self, features):\n",
    "        log_p_x_y = log_prob(features, mu_y, sigma_y, log_py)\n",
    "        return log_p_x_y.argmax(axis=1)"
   ]
  },
  {
   "cell_type": "code",
   "execution_count": null,
   "metadata": {},
   "outputs": [],
   "source": [
    "diabetes_classifier = NBClassifier(train_features, train_labels)\n",
    "train_pred = diabetes_classifier.predict(train_features)\n",
    "eval_pred = diabetes_classifier.predict(eval_features)"
   ]
  },
  {
   "cell_type": "code",
   "execution_count": null,
   "metadata": {},
   "outputs": [],
   "source": [
    "train_acc = (train_pred==train_labels).mean()\n",
    "eval_acc = (eval_pred==eval_labels).mean()\n",
    "print(f'The training data accuracy of your trained model is {train_acc}')\n",
    "print(f'The evaluation data accuracy of your trained model is {eval_acc}')"
   ]
  },
  {
   "cell_type": "markdown",
   "metadata": {},
   "source": [
    "## 1.2 Running an off-the-shelf implementation of Naive-Bayes For Comparison"
   ]
  },
  {
   "cell_type": "code",
   "execution_count": null,
   "metadata": {},
   "outputs": [],
   "source": [
    "from sklearn.naive_bayes import GaussianNB\n",
    "gnb = GaussianNB().fit(train_features, train_labels)\n",
    "train_pred_sk = gnb.predict(train_features)\n",
    "eval_pred_sk = gnb.predict(eval_features)\n",
    "print(f'The training data accuracy of your trained model is {(train_pred_sk == train_labels).mean()}')\n",
    "print(f'The evaluation data accuracy of your trained model is {(eval_pred_sk == eval_labels).mean()}')"
   ]
  },
  {
   "cell_type": "markdown",
   "metadata": {},
   "source": [
    "# Part 2 (Building a Naive Bayes Classifier Considering Missing Entries)"
   ]
  },
  {
   "cell_type": "markdown",
   "metadata": {},
   "source": [
    "In this part, we will modify some of the parameter inference functions of the Naive Bayes classifier to make it able to ignore the NaN entries when inferring the Gaussian mean and stds."
   ]
  },
  {
   "cell_type": "markdown",
   "metadata": {},
   "source": [
    "# <span style=\"color:blue\">Task 5</span>"
   ]
  },
  {
   "cell_type": "markdown",
   "metadata": {},
   "source": [
    "Write a function `cc_mean_consider_missing` that\n",
    "* has exactly the same input and output types as the `cc_mean_ignore_missing` function,\n",
    "* and has similar functionality to `cc_mean_ignore_missing` except that it can handle and ignore the NaN entries when computing the class conditional means.\n",
    "\n",
    "You can borrow most of the code from your `cc_mean_ignore_missing` implementation, but you should make it compatible with the existence of NaN values in the features.\n",
    "\n",
    "Try and avoid the utilization of loops as much as possible. No loops are necessary."
   ]
  },
  {
   "cell_type": "markdown",
   "metadata": {},
   "source": [
    "* **Hint**: You may find the `np.nanmean` function useful."
   ]
  },
  {
   "cell_type": "code",
   "execution_count": null,
   "metadata": {
    "nbgrader": {
     "grade": false,
     "grade_id": "cell-6ab8c367d427a588",
     "locked": false,
     "schema_version": 3,
     "solution": true,
     "task": false
    }
   },
   "outputs": [],
   "source": [
    "def cc_mean_consider_missing(train_features_with_nans, train_labels):\n",
    "    N, d = train_features_with_nans.shape\n",
    "    \n",
    "    ### BEGIN SOLUTION\n",
    "    ### END SOLUTION\n",
    "    means_success = np.nanmean(train_features_with_nans[train_labels==1],axis=0)\n",
    "    means_failure = np.nanmean(train_features_with_nans[train_labels==0],axis=0)\n",
    "    mu_y = np.column_stack((means_failure,means_success))\n",
    "    \n",
    "    \n",
    "    assert not np.isnan(mu_y).any()\n",
    "    assert mu_y.shape == (d, 2)\n",
    "    return mu_y"
   ]
  },
  {
   "cell_type": "code",
   "execution_count": null,
   "metadata": {
    "scrolled": true
   },
   "outputs": [],
   "source": [
    "mu_y = cc_mean_consider_missing(train_features_with_nans, train_labels)\n",
    "mu_y"
   ]
  },
  {
   "cell_type": "markdown",
   "metadata": {},
   "source": [
    "# <span style=\"color:blue\">Task 6</span>"
   ]
  },
  {
   "cell_type": "markdown",
   "metadata": {},
   "source": [
    "Write a function `cc_std_consider_missing` that\n",
    "* has exactly the same input and output types as the `cc_std_ignore_missing` function,\n",
    "* and has similar functionality to `cc_std_ignore_missing` except that it can handle and ignore the NaN entries when computing the class conditional means.\n",
    "\n",
    "You can borrow most of the code from your `cc_std_ignore_missing` implementation, but you should make it compatible with the existence of NaN values in the features.\n",
    "\n",
    "Try and avoid the utilization of loops as much as possible. No loops are necessary."
   ]
  },
  {
   "cell_type": "markdown",
   "metadata": {},
   "source": [
    "* **Hint**: You may find the `np.nanstd` function useful."
   ]
  },
  {
   "cell_type": "code",
   "execution_count": null,
   "metadata": {
    "nbgrader": {
     "grade": false,
     "grade_id": "cell-927753c6215c5646",
     "locked": false,
     "schema_version": 3,
     "solution": true,
     "task": false
    }
   },
   "outputs": [],
   "source": [
    "def cc_std_consider_missing(train_features_with_nans, train_labels):\n",
    "    N, d = train_features_with_nans.shape\n",
    "    \n",
    "    ### BEGIN SOLUTION\n",
    "    ### END SOLUTION\n",
    "    sigma_success = np.nanstd(train_features_with_nans[train_labels==1],axis=0)\n",
    "    sigma_failure = np.nanstd(train_features_with_nans[train_labels==0],axis=0)\n",
    "    sigma_y = np.column_stack((sigma_failure,sigma_success))\n",
    "     \n",
    "    assert not np.isnan(sigma_y).any()\n",
    "    assert sigma_y.shape == (d, 2)\n",
    "    return sigma_y"
   ]
  },
  {
   "cell_type": "code",
   "execution_count": null,
   "metadata": {
    "scrolled": true
   },
   "outputs": [],
   "source": [
    "sigma_y = cc_std_consider_missing(train_features_with_nans, train_labels)\n",
    "sigma_y"
   ]
  },
  {
   "cell_type": "markdown",
   "metadata": {},
   "source": [
    "## 2.1. Writing the Naive Bayes Classifier With Missing Data Handling"
   ]
  },
  {
   "cell_type": "code",
   "execution_count": null,
   "metadata": {},
   "outputs": [],
   "source": [
    "class NBClassifierWithMissing(NBClassifier):\n",
    "    def get_cc_means(self):\n",
    "        mu_y = cc_mean_consider_missing(self.train_features, self.train_labels)\n",
    "        return mu_y\n",
    "    \n",
    "    def get_cc_std(self):\n",
    "        sigma_y = cc_std_consider_missing(self.train_features, self.train_labels)\n",
    "        return sigma_y"
   ]
  },
  {
   "cell_type": "code",
   "execution_count": null,
   "metadata": {},
   "outputs": [],
   "source": [
    "diabetes_classifier_nans = NBClassifierWithMissing(train_features_with_nans, train_labels)\n",
    "train_pred = diabetes_classifier_nans.predict(train_features_with_nans)\n",
    "eval_pred = diabetes_classifier_nans.predict(eval_features_with_nans)"
   ]
  },
  {
   "cell_type": "code",
   "execution_count": null,
   "metadata": {},
   "outputs": [],
   "source": [
    "train_acc = (train_pred==train_labels).mean()\n",
    "eval_acc = (eval_pred==eval_labels).mean()\n",
    "print(f'The training data accuracy of your trained model is {train_acc}')\n",
    "print(f'The evaluation data accuracy of your trained model is {eval_acc}')"
   ]
  },
  {
   "cell_type": "markdown",
   "metadata": {},
   "source": [
    "# 3. Running SVMlight"
   ]
  },
  {
   "cell_type": "markdown",
   "metadata": {},
   "source": [
    "In this section, we are going to investigate the support vector machine classification method. We will become familiar with this classification method in week 3. However, in this section, we are just going to observe how this method performs to set the stage for the third week.\n",
    "\n",
    "`SVMlight` (http://svmlight.joachims.org/) is a famous implementation of the SVM classifier. \n",
    "\n",
    "`SVMLight` can be called from a shell terminal, and there is no nice wrapper for it in python3. Therefore:\n",
    "1. We have to export the training data to a special format called `svmlight/libsvm`. This can be done using scikit-learn.\n",
    "2. We have to run the `svm_learn` program to learn the model and then store it.\n",
    "3. We have to import the model back to python."
   ]
  },
  {
   "cell_type": "markdown",
   "metadata": {},
   "source": [
    "## 3.1 Exporting the training data to libsvm format"
   ]
  },
  {
   "cell_type": "code",
   "execution_count": null,
   "metadata": {},
   "outputs": [],
   "source": [
    "from sklearn.datasets import dump_svmlight_file\n",
    "dump_svmlight_file(train_features, 2*train_labels-1, 'training_feats.data', \n",
    "                   zero_based=False, comment=None, query_id=None, multilabel=False)"
   ]
  },
  {
   "cell_type": "markdown",
   "metadata": {},
   "source": [
    "## 3.2 Training `SVMlight`"
   ]
  },
  {
   "cell_type": "code",
   "execution_count": null,
   "metadata": {},
   "outputs": [],
   "source": [
    "from subprocess import Popen, PIPE\n",
    "process = Popen([\"./svmlight/svm_learn\", \"./training_feats.data\", \"svm_model.txt\"], stdout=PIPE, stderr=PIPE)\n",
    "stdout, stderr = process.communicate()\n",
    "print(stdout.decode(\"utf-8\"))"
   ]
  },
  {
   "cell_type": "markdown",
   "metadata": {},
   "source": [
    "## 3.3 Importing the SVM Model"
   ]
  },
  {
   "cell_type": "code",
   "execution_count": null,
   "metadata": {},
   "outputs": [],
   "source": [
    "from svm2weight import get_svmlight_weights\n",
    "svm_weights, thresh = get_svmlight_weights('svm_model.txt', printOutput=False)\n",
    "\n",
    "def svmlight_classifier(train_features):\n",
    "    return (train_features @ svm_weights - thresh).reshape(-1) >= 0."
   ]
  },
  {
   "cell_type": "code",
   "execution_count": null,
   "metadata": {},
   "outputs": [],
   "source": [
    "train_pred = svmlight_classifier(train_features)\n",
    "eval_pred = svmlight_classifier(eval_features)"
   ]
  },
  {
   "cell_type": "code",
   "execution_count": null,
   "metadata": {},
   "outputs": [],
   "source": [
    "train_acc = (train_pred==train_labels).mean()\n",
    "eval_acc = (eval_pred==eval_labels).mean()\n",
    "print(f'The training data accuracy of your trained model is {train_acc}')\n",
    "print(f'The evaluation data accuracy of your trained model is {eval_acc}')"
   ]
  },
  {
   "cell_type": "code",
   "execution_count": null,
   "metadata": {},
   "outputs": [],
   "source": []
  }
 ],
 "metadata": {
  "celltoolbar": "Create Assignment",
  "kernelspec": {
   "display_name": "Python 3 (ipykernel)",
   "language": "python",
   "name": "python3"
  },
  "language_info": {
   "codemirror_mode": {
    "name": "ipython",
    "version": 3
   },
   "file_extension": ".py",
   "mimetype": "text/x-python",
   "name": "python",
   "nbconvert_exporter": "python",
   "pygments_lexer": "ipython3",
   "version": "3.8.3"
  }
 },
 "nbformat": 4,
 "nbformat_minor": 4
}
